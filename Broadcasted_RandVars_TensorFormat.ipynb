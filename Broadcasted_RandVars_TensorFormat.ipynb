{
 "cells": [
  {
   "cell_type": "code",
   "execution_count": 1,
   "metadata": {},
   "outputs": [],
   "source": [
    "using Random\n",
    "using Distributions"
   ]
  },
  {
   "cell_type": "code",
   "execution_count": 2,
   "metadata": {},
   "outputs": [],
   "source": [
    "## Common parameter\n",
    "Lambda = [1 1 4; 5 1 4];\n",
    "M, N = size(Lambda);\n",
    "n = 810;\n",
    "SEED = 1;"
   ]
  },
  {
   "cell_type": "code",
   "execution_count": 3,
   "metadata": {},
   "outputs": [
    {
     "name": "stdout",
     "output_type": "stream",
     "text": [
      "  0.171375 seconds (831.83 k allocations: 41.938 MiB, 8.55% gc time)\n"
     ]
    }
   ],
   "source": [
    "## non-named function doctorin\n",
    "Random.seed!(SEED);\n",
    "@time data1 = ((d, _) -> rand(d)).(Poisson.(Lambda), fill(true, 1, 1, n));"
   ]
  },
  {
   "cell_type": "code",
   "execution_count": 4,
   "metadata": {},
   "outputs": [
    {
     "name": "stdout",
     "output_type": "stream",
     "text": [
      "  0.188896 seconds (818.05 k allocations: 39.474 MiB, 5.42% gc time)\n"
     ]
    }
   ],
   "source": [
    "## reshaped tensor doctorin\n",
    "Random.seed!(SEED);\n",
    "@time data2 = rand.(Poisson.(reshape(repeat(Lambda', n)', (M,N,n))));"
   ]
  },
  {
   "cell_type": "code",
   "execution_count": 5,
   "metadata": {},
   "outputs": [
    {
     "data": {
      "text/plain": [
       "true"
      ]
     },
     "execution_count": 5,
     "metadata": {},
     "output_type": "execute_result"
    }
   ],
   "source": [
    "data1==data2"
   ]
  },
  {
   "cell_type": "code",
   "execution_count": 6,
   "metadata": {},
   "outputs": [
    {
     "data": {
      "text/plain": [
       "2×3×810 Array{Int64,3}:\n",
       "[:, :, 1] =\n",
       " 0  0  4\n",
       " 4  0  2\n",
       "\n",
       "[:, :, 2] =\n",
       "  3  0  4\n",
       " 15  4  4\n",
       "\n",
       "[:, :, 3] =\n",
       " 1  0  3\n",
       " 7  0  1\n",
       "\n",
       "...\n",
       "\n",
       "[:, :, 808] =\n",
       " 0  0  6\n",
       " 1  0  2\n",
       "\n",
       "[:, :, 809] =\n",
       " 2  2  9\n",
       " 6  1  6\n",
       "\n",
       "[:, :, 810] =\n",
       " 0  0  1\n",
       " 6  2  7"
      ]
     },
     "execution_count": 6,
     "metadata": {},
     "output_type": "execute_result"
    }
   ],
   "source": [
    "data1"
   ]
  },
  {
   "cell_type": "code",
   "execution_count": 7,
   "metadata": {},
   "outputs": [
    {
     "data": {
      "text/plain": [
       "2×3×810 Array{Int64,3}:\n",
       "[:, :, 1] =\n",
       " 0  0  4\n",
       " 4  0  2\n",
       "\n",
       "[:, :, 2] =\n",
       "  3  0  4\n",
       " 15  4  4\n",
       "\n",
       "[:, :, 3] =\n",
       " 1  0  3\n",
       " 7  0  1\n",
       "\n",
       "...\n",
       "\n",
       "[:, :, 808] =\n",
       " 0  0  6\n",
       " 1  0  2\n",
       "\n",
       "[:, :, 809] =\n",
       " 2  2  9\n",
       " 6  1  6\n",
       "\n",
       "[:, :, 810] =\n",
       " 0  0  1\n",
       " 6  2  7"
      ]
     },
     "execution_count": 7,
     "metadata": {},
     "output_type": "execute_result"
    }
   ],
   "source": [
    "data2"
   ]
  }
 ],
 "metadata": {
  "@webio": {
   "lastCommId": null,
   "lastKernelId": null
  },
  "kernelspec": {
   "display_name": "Julia 1.3.0",
   "language": "julia",
   "name": "julia-1.3"
  },
  "language_info": {
   "file_extension": ".jl",
   "mimetype": "application/julia",
   "name": "julia",
   "version": "1.3.0"
  }
 },
 "nbformat": 4,
 "nbformat_minor": 2
}
