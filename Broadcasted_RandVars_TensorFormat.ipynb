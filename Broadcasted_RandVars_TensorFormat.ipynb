{
 "cells": [
  {
   "cell_type": "code",
   "execution_count": 1,
   "metadata": {},
   "outputs": [],
   "source": [
    "using Random\n",
    "using Distributions"
   ]
  },
  {
   "cell_type": "code",
   "execution_count": 2,
   "metadata": {},
   "outputs": [],
   "source": [
    "## Common parameter\n",
    "Lambda = [1 1 4; 5 1 4];\n",
    "M, N = size(Lambda);\n",
    "n = 81000;\n",
    "SEED = 1;\n",
    "SIM_ITERS = 100;"
   ]
  },
  {
   "cell_type": "code",
   "execution_count": 3,
   "metadata": {},
   "outputs": [
    {
     "name": "stdout",
     "output_type": "stream",
     "text": [
      "  0.341516 seconds (831.83 k allocations: 45.685 MiB, 3.95% gc time)\n"
     ]
    }
   ],
   "source": [
    "## non-named function doctorin\n",
    "Random.seed!(SEED);\n",
    "@time data1 = ((d, _) -> rand(d)).(Poisson.(Lambda), fill(true, 1, 1, n));"
   ]
  },
  {
   "cell_type": "code",
   "execution_count": 4,
   "metadata": {},
   "outputs": [
    {
     "name": "stdout",
     "output_type": "stream",
     "text": [
      " 18.345713 seconds (1.12 M allocations: 434.287 MiB, 0.62% gc time)\n"
     ]
    }
   ],
   "source": [
    "## iteration ver.\n",
    "iterated_data1 = zeros(Int64, M, N, n, SIM_ITERS)\n",
    "tmp_Lambda = Lambda .+0.1\n",
    "@time for i in 1:SIM_ITERS\n",
    "    iterated_data1[:,:,:,i] = ((d, _) -> rand(d)).(Poisson.(tmp_Lambda), fill(true, 1, 1, n));\n",
    "    tmp_Lambda .+= 0.2\n",
    "end"
   ]
  },
  {
   "cell_type": "code",
   "execution_count": 5,
   "metadata": {},
   "outputs": [
    {
     "name": "stdout",
     "output_type": "stream",
     "text": [
      "  0.363659 seconds (818.01 k allocations: 46.810 MiB)\n"
     ]
    }
   ],
   "source": [
    "## reshaped tensor doctorin\n",
    "Random.seed!(SEED);\n",
    "@time data2 = rand.(Poisson.(reshape(repeat(Lambda', n)', (M,N,n))));"
   ]
  },
  {
   "cell_type": "code",
   "execution_count": 6,
   "metadata": {},
   "outputs": [
    {
     "name": "stdout",
     "output_type": "stream",
     "text": [
      " 18.663291 seconds (688.34 k allocations: 774.212 MiB, 0.27% gc time)\n"
     ]
    }
   ],
   "source": [
    "## iteration ver.\n",
    "iterated_data2 = zeros(Int64, M, N, n, SIM_ITERS)\n",
    "tmp_Lambda = Lambda .+0.1\n",
    "@time for i in 1:SIM_ITERS\n",
    "    iterated_data2[:,:,:,i] = rand.(Poisson.(reshape(repeat(tmp_Lambda', n)', (M,N,n))));\n",
    "    tmp_Lambda .+= 0.2\n",
    "end"
   ]
  },
  {
   "cell_type": "code",
   "execution_count": 7,
   "metadata": {},
   "outputs": [
    {
     "data": {
      "text/plain": [
       "true"
      ]
     },
     "execution_count": 7,
     "metadata": {},
     "output_type": "execute_result"
    }
   ],
   "source": [
    "data1==data2"
   ]
  },
  {
   "cell_type": "code",
   "execution_count": 8,
   "metadata": {},
   "outputs": [
    {
     "data": {
      "text/plain": [
       "true"
      ]
     },
     "execution_count": 8,
     "metadata": {},
     "output_type": "execute_result"
    }
   ],
   "source": [
    "iterated_data1 == iterated_data2"
   ]
  }
 ],
 "metadata": {
  "@webio": {
   "lastCommId": null,
   "lastKernelId": null
  },
  "kernelspec": {
   "display_name": "Julia 1.3.0",
   "language": "julia",
   "name": "julia-1.3"
  },
  "language_info": {
   "file_extension": ".jl",
   "mimetype": "application/julia",
   "name": "julia",
   "version": "1.3.0"
  }
 },
 "nbformat": 4,
 "nbformat_minor": 2
}
